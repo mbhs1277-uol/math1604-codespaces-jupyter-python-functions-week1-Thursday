{
 "cells": [
  {
   "cell_type": "code",
   "execution_count": 1,
   "metadata": {},
   "outputs": [],
   "source": []
  },
  {
   "cell_type": "markdown",
   "metadata": {},
   "source": [
    "## This code is simply importing two Python libraries:\n",
    "\n",
    "**1. requests:**\n",
    "\n",
    "A popular library for sending HTTP requests in Python. It simplifies making requests to web pages or APIs, handling methods like GET, POST, PUT, DELETE, etc.\n",
    "\n",
    "\n",
    "**2. pandas (imported as pd):**\n",
    "\n",
    "A widely-used library for data manipulation and analysis. It provides data structures and tools for working with structured data (like CSVs, Excel files, SQL databases, etc.).\n",
    "\n",
    "**By importing these libraries, the script is set up to:**\n",
    "\n",
    "\n",
    "Use requests to fetch data or interact with web services.\n",
    "\n",
    "Use pandas (referred to as pd in the code) to load, transform, analyze, and manipulate the data once it is obtained."
   ]
  },
  {
   "cell_type": "code",
   "execution_count": 5,
   "metadata": {},
   "outputs": [],
   "source": [
    "import requests\n",
    "import pandas as pd"
   ]
  },
  {
   "cell_type": "markdown",
   "metadata": {},
   "source": [
    "We are going to use API.\n",
    "\n",
    "An API (Application Programming Interface) is a set of rules and protocols that allows different software applications to communicate with each other. In practical terms, it defines how a programmer can request data or services from another application or service, and how that other application or service should respond to those requests.\n",
    "\n",
    "For instance, a web API might allow developers to send a request—often using the HTTP protocol—to obtain information (such as stock prices, weather forecasts, or user data). The API then returns the requested data in a structured format (usually JSON or XML) that the developer’s application can process and use. This abstraction makes it easier to integrate services without needing to know the internal details of how the other application is implemented.\n",
    "\n",
    "The API are provided by a cloud service:\n",
    "\n",
    "https://api.exchangerate.host\n",
    "\n",
    "\n",
    "a freely available web API that provides current and historical foreign exchange rates. It allows developers and applications to:\n",
    "\n",
    "- Retrieve real-time exchange rates for various currencies.\n",
    "\n",
    "- Access historical exchange rates for a given date range.\n",
    "\n",
    "- Perform currency conversions, with results returned in a standardized, easy-to-parse format (usually JSON).\n",
    "\n",
    "\n",
    "No API key is required for basic use, making it a convenient option for quickly integrating currency-related data into applications or data analysis workflows.\n",
    "\n",
    "A key is required for what we want to do, and I have created one.\n",
    "\n",
    "\n",
    "\n",
    "\n"
   ]
  },
  {
   "cell_type": "code",
   "execution_count": 7,
   "metadata": {},
   "outputs": [],
   "source": [
    "API_KEY = \"2cf702f1ebad249cd268928ffe589052\""
   ]
  },
  {
   "cell_type": "markdown",
   "metadata": {},
   "source": [
    "Set the url"
   ]
  },
  {
   "cell_type": "code",
   "execution_count": 6,
   "metadata": {},
   "outputs": [],
   "source": [
    "url = \"https://api.exchangerate.host/timeframe\"\n",
    "url_specific_date = \"https://exchangerate.host/documentation\""
   ]
  },
  {
   "cell_type": "markdown",
   "metadata": {},
   "source": [
    "Set the parameters as a dictionary.\n",
    "\n",
    "If you don't remember what that is, look here:\n",
    "\n",
    "https://www.w3schools.com/python/python_dictionaries.asp\n",
    "\n"
   ]
  },
  {
   "cell_type": "code",
   "execution_count": 8,
   "metadata": {},
   "outputs": [
    {
     "data": {
      "text/plain": [
       "'https://exchangerate.host/documentation'"
      ]
     },
     "execution_count": 8,
     "metadata": {},
     "output_type": "execute_result"
    }
   ],
   "source": [
    "url_specific_date"
   ]
  },
  {
   "cell_type": "code",
   "execution_count": 9,
   "metadata": {},
   "outputs": [],
   "source": [
    "params = {\n",
    "    \"access_key\": API_KEY,\n",
    "    \"start_date\": \"2023-12-15\",\n",
    "    \"end_date\": \"2024-03-21\"\n",
    "}\n"
   ]
  },
  {
   "cell_type": "code",
   "execution_count": 10,
   "metadata": {},
   "outputs": [],
   "source": [
    "parms_specific_date = {\n",
    "    \"access_key\": API_KEY,\n",
    "    \"date\": \"2023-12-15\"\n",
    "}"
   ]
  },
  {
   "cell_type": "markdown",
   "metadata": {},
   "source": [
    "see how they look"
   ]
  },
  {
   "cell_type": "code",
   "execution_count": 12,
   "metadata": {},
   "outputs": [
    {
     "data": {
      "text/plain": [
       "{'access_key': '2cf702f1ebad249cd268928ffe589052', 'date': '2023-12-15'}"
      ]
     },
     "execution_count": 12,
     "metadata": {},
     "output_type": "execute_result"
    }
   ],
   "source": [
    "parms_specific_date"
   ]
  },
  {
   "cell_type": "code",
   "execution_count": 11,
   "metadata": {},
   "outputs": [
    {
     "data": {
      "text/plain": [
       "{'access_key': '2cf702f1ebad249cd268928ffe589052',\n",
       " 'start_date': '2023-12-15',\n",
       " 'end_date': '2024-03-21'}"
      ]
     },
     "execution_count": 11,
     "metadata": {},
     "output_type": "execute_result"
    }
   ],
   "source": [
    "params"
   ]
  },
  {
   "cell_type": "markdown",
   "metadata": {},
   "source": [
    "**Explanation of the code in the next cell** `response = requests.get(url, params=params)`\n",
    "\n",
    "- This line uses the Python **requests** library to send an HTTP **GET** request to `url`.\n",
    "- The optional `params` dictionary (e.g., `{'key': 'value'}`) is appended to the `url` as a query string (`?key=value`).\n",
    "- The method returns a `Response` object, stored in `response`, which contains:\n",
    "  - `response.status_code`: The HTTP status code (e.g., 200 for success).\n",
    "  - `response.text` or `response.content`: The body/content of the server’s response.\n",
    "  - `response.headers`: The response headers.\n",
    "\n",
    "By inspecting `response`, you can view the returned data and verify the status of your request.\n"
   ]
  },
  {
   "cell_type": "markdown",
   "metadata": {},
   "source": []
  },
  {
   "cell_type": "code",
   "execution_count": 6,
   "metadata": {},
   "outputs": [],
   "source": [
    "response = requests.get(url,params=params)"
   ]
  },
  {
   "cell_type": "code",
   "execution_count": null,
   "metadata": {},
   "outputs": [],
   "source": []
  },
  {
   "cell_type": "markdown",
   "metadata": {},
   "source": []
  },
  {
   "cell_type": "code",
   "execution_count": null,
   "metadata": {},
   "outputs": [],
   "source": [
    "print(response.url)"
   ]
  },
  {
   "cell_type": "markdown",
   "metadata": {},
   "source": [
    "### What does `data = response.json()` do?\n",
    "\n",
    "When you use the `requests` library in Python to make an HTTP request (for example, `requests.get()`), you receive a `Response` object. This response often contains data in JSON (JavaScript Object Notation) format. \n",
    "\n",
    "By calling:\n",
    "\n",
    "```python\n",
    "data = response.json()\n",
    "```\n",
    "\n",
    "\n",
    "you are:\n",
    "\n",
    "Parsing the JSON content of the response body into a Python object.\n",
    "\n",
    "\n",
    "The result is typically a dictionary (or list, depending on the JSON structure), which you can then manipulate, inspect, or process further in your code.\n",
    "\n",
    "\n",
    "In other words, .json() provides a convenient way to convert a JSON-formatted string into a native Python data structure."
   ]
  },
  {
   "cell_type": "code",
   "execution_count": 8,
   "metadata": {},
   "outputs": [],
   "source": [
    "data = response.json()"
   ]
  },
  {
   "cell_type": "markdown",
   "metadata": {},
   "source": []
  },
  {
   "cell_type": "markdown",
   "metadata": {},
   "source": [
    "**Try to figure out what other API do: look at the documentation**\n",
    "https://exchangerate.host/documentation"
   ]
  },
  {
   "cell_type": "markdown",
   "metadata": {},
   "source": [
    "**Can oyu make sense of the URL below?**\n",
    "https://api.exchangerate.host/timeframe?access_key=2cf702f1ebad249cd268928ffe589052&start_date=2023-12-15&end_date=2024-03-21"
   ]
  },
  {
   "cell_type": "code",
   "execution_count": null,
   "metadata": {},
   "outputs": [],
   "source": [
    "data"
   ]
  },
  {
   "cell_type": "markdown",
   "metadata": {},
   "source": []
  },
  {
   "cell_type": "code",
   "execution_count": null,
   "metadata": {},
   "outputs": [],
   "source": []
  }
 ],
 "metadata": {
  "kernelspec": {
   "display_name": "Python 3",
   "language": "python",
   "name": "python3"
  },
  "language_info": {
   "codemirror_mode": {
    "name": "ipython",
    "version": 3
   },
   "file_extension": ".py",
   "mimetype": "text/x-python",
   "name": "python",
   "nbconvert_exporter": "python",
   "pygments_lexer": "ipython3",
   "version": "3.12.1"
  }
 },
 "nbformat": 4,
 "nbformat_minor": 2
}
