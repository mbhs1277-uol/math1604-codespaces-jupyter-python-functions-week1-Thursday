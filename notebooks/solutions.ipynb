{
 "cells": [
  {
   "cell_type": "markdown",
   "id": "fd077040",
   "metadata": {},
   "source": [
    "# MATH1604 Modelling for Big Data - Functions in Python: a refresher\n",
    "\n",
    "**Based on Chapter 3 of _Think Python: How to Think Like a Computer Scientist_**\n",
    "\n",
    "## Objective\n",
    "Understand the fundamentals of functions in Python, including defining functions, using parameters and return values, and grasping variable scope. Through hands-on exercises, you will apply these concepts to build reusable and efficient code—essential skills for any aspiring data scientist."
   ]
  },
  {
   "cell_type": "markdown",
   "id": "2b389aff",
   "metadata": {},
   "source": [
    "## Table of Contents\n",
    "1. [Introduction to Functions](#introduction-to-functions)\n",
    "2. [Exercises](#exercises)\n",
    "   - Exercise 1: Defining and Calling Functions\n",
    "   - Exercise 2: Function with Return Value\n",
    "   - Exercise 3: Completing Missing Code\n",
    "   - Exercise 4: Multiple Parameters\n",
    "   - Exercise 5: Default Parameters\n",
    "   - Exercise 6: Function Composition\n",
    "   - Exercise 7: Debugging Missing Parts\n",
    "   - Exercise 8: Understanding Variable Scope\n",
    "   - Exercise 9: Building a Simple Calculator\n",
    "   - Exercise 10: Conditional Logic in Functions\n",
    "3. [Conclusion](#conclusion)"
   ]
  },
  {
   "cell_type": "markdown",
   "id": "e709a942",
   "metadata": {
    "heading_collapsed": true
   },
   "source": [
    "## Introduction to Functions\n",
    "<a id=\"introduction-to-functions\"></a>\n",
    "\n",
    "Functions are the building blocks of reusable and organized code in Python. They allow you to encapsulate code into blocks that can perform specific tasks, making your programs more modular and easier to manage.\n",
    "\n",
    "**Key Concepts:**\n",
    "\n",
    "- **Defining Functions:** Using the `def` keyword to create a function.\n",
    "  ```python\n",
    "  def function_name(parameters):\n",
    "      # function body\n",
    "      return value\n",
    "  ```\n",
    "- **Parameters and Arguments:** Parameters are variables listed in the function definition. Arguments are the actual values passed to the function when called.\n",
    "- **Return Values:** Functions can return values using the `return` statement. If no return statement is present, the function returns `None` by default.\n",
    "- **Scope:** Variables defined inside a function are local to that function and cannot be accessed outside of it."
   ]
  },
  {
   "cell_type": "markdown",
   "id": "de3b0eb1",
   "metadata": {},
   "source": [
    "## Exercises\n",
    "<a id=\"exercises\"></a>"
   ]
  },
  {
   "cell_type": "markdown",
   "id": "7e5b22a4",
   "metadata": {},
   "source": [
    "### Exercise 1: Defining and Calling Functions\n",
    "\n",
    "**Task:**  \n",
    "Define a function named `greet` that takes one parameter `name` and prints the message \"Hello, <name>!\".\n",
    "\n",
    "**Example Usage:**\n",
    "```python\n",
    "greet(\"Alice\")\n",
    "```\n",
    "**Expected Output:**\n",
    "```\n",
    "Hello, Alice!\n",
    "```\n",
    "\n",
    "Complete the code below:"
   ]
  },
  {
   "cell_type": "code",
   "execution_count": null,
   "id": "0422ac34",
   "metadata": {
    "collapsed": false
   },
   "outputs": [],
   "source": [
    "def greet(name):\n",
    "    print(f\"Hello, {name}!\")\n",
    "\n",
    "# Test the function\n",
    "greet(\"Alice\")\n",
    "greet(\"Bob\")"
   ]
  },
  {
   "cell_type": "markdown",
   "id": "1d58224c",
   "metadata": {},
   "source": [
    "### Exercise 2: Function with Return Value\n",
    "\n",
    "**Task:**  \n",
    "Create a function called `square` that takes a number as input and returns its square.\n",
    "\n",
    "**Example Usage:**\n",
    "```python\n",
    "result = square(5)\n",
    "print(result)\n",
    "```\n",
    "**Expected Output:**\n",
    "```\n",
    "25\n",
    "```\n",
    "\n",
    "Complete the code below:"
   ]
  },
  {
   "cell_type": "code",
   "execution_count": null,
   "id": "1f5f1126",
   "metadata": {
    "collapsed": false
   },
   "outputs": [],
   "source": [
    "def square(number):\n",
    "    return number ** 2\n",
    "\n",
    "# Test the function\n",
    "print(square(5))\n",
    "print(square(10))"
   ]
  },
  {
   "cell_type": "markdown",
   "id": "4aedd450",
   "metadata": {},
   "source": [
    "### Exercise 3: Completing Missing Code\n",
    "\n",
    "**Task:**  \n",
    "Complete the `rectangle_area` function by filling in the missing part marked by `___`. The function should calculate and return the area of a rectangle.\n",
    "\n",
    "```python\n",
    "def rectangle_area(width, height):\n",
    "    area = width * height\n",
    "    return ___\n",
    "\n",
    "# Example usage:\n",
    "w = 4\n",
    "h = 5\n",
    "print(\"Area:\", rectangle_area(w, h))\n",
    "```\n",
    "\n",
    "**Expected Output:**\n",
    "```\n",
    "Area: 20\n",
    "```\n",
    "\n",
    "Complete the code below:"
   ]
  },
  {
   "cell_type": "code",
   "execution_count": null,
   "id": "8951f666",
   "metadata": {
    "collapsed": false
   },
   "outputs": [],
   "source": [
    "def rectangle_area(width, height):\n",
    "    area = width * height\n",
    "    return area  # Replace '___' with 'area'\n",
    "\n",
    "# Test the function\n",
    "w = 4\n",
    "h = 5\n",
    "print(\"Area:\", rectangle_area(w, h))"
   ]
  },
  {
   "cell_type": "markdown",
   "id": "b6e20225",
   "metadata": {},
   "source": [
    "### Exercise 4: Multiple Parameters\n",
    "\n",
    "**Task:**  \n",
    "Define a function `is_even` that takes an integer and returns `True` if the number is even, and `False` otherwise.\n",
    "\n",
    "**Example Usage:**\n",
    "```python\n",
    "print(is_even(10))  # Should print True\n",
    "print(is_even(7))   # Should print False\n",
    "```\n",
    "\n",
    "Complete the code below:"
   ]
  },
  {
   "cell_type": "code",
   "execution_count": 1,
   "id": "4c9346d8",
   "metadata": {
    "collapsed": false
   },
   "outputs": [
    {
     "ename": "IndentationError",
     "evalue": "expected an indented block after 'if' statement on line 2 (2327366110.py, line 3)",
     "output_type": "error",
     "traceback": [
      "\u001b[0;36m  Cell \u001b[0;32mIn[1], line 3\u001b[0;36m\u001b[0m\n\u001b[0;31m    return True\u001b[0m\n\u001b[0m    ^\u001b[0m\n\u001b[0;31mIndentationError\u001b[0m\u001b[0;31m:\u001b[0m expected an indented block after 'if' statement on line 2\n"
     ]
    }
   ],
   "source": [
    "def is_even(number):\n",
    "    if number % 2 == 0:\n",
    "    return True\n",
    "else:\n",
    "    return False\n",
    "\n",
    "# Test the function\n",
    "print(is_even(10))  # True\n",
    "print(is_even(7))   # False\n",
    "print(is_even(0))   # True"
   ]
  },
  {
   "cell_type": "markdown",
   "id": "1430f24b",
   "metadata": {},
   "source": [
    "### Exercise 5: Default Parameters\n",
    "\n",
    "**Task:**  \n",
    "Modify the previously defined `greet` function to have a default parameter `name=\"World\"`. If no argument is provided when calling the function, it should print \"Hello, World!\".\n",
    "\n",
    "**Example Usage:**\n",
    "```python\n",
    "greet()           # Should print \"Hello, World!\"\n",
    "greet(\"Bob\")      # Should print \"Hello, Bob!\"\n",
    "```\n",
    "\n",
    "Complete the code below:"
   ]
  },
  {
   "cell_type": "code",
   "execution_count": null,
   "id": "250c3d10",
   "metadata": {
    "collapsed": false
   },
   "outputs": [],
   "source": [
    "def greet(name=\"World\"):\n",
    "    print(f\"Hello, {name}!\")\n",
    "\n",
    "# Test the function\n",
    "greet()           # Hello, World!\n",
    "greet(\"Bob\")      # Hello, Bob!"
   ]
  },
  {
   "cell_type": "markdown",
   "id": "5c23edf8",
   "metadata": {},
   "source": [
    "### Exercise 6: Function Composition\n",
    "\n",
    "**Task:**  \n",
    "Define two functions, `double` and `triple`, that return twice and three times their input, respectively. Then, define a function `double_then_triple` that uses these two functions to return six times the input.\n",
    "\n",
    "**Example Usage:**\n",
    "```python\n",
    "print(double_then_triple(2))  # Should print 12\n",
    "```\n",
    "\n",
    "Complete the code below:"
   ]
  },
  {
   "cell_type": "code",
   "execution_count": null,
   "id": "9fe76388",
   "metadata": {
    "collapsed": false
   },
   "outputs": [],
   "source": [
    "def double(x):\n",
    "    return 2 * x\n",
    "\n",
    "def triple(x):\n",
    "    return 3 * x\n",
    "\n",
    "def double_then_triple(x):\n",
    "    return triple(double(x))\n",
    "\n",
    "# Test the function\n",
    "print(double_then_triple(2))  # 12\n",
    "print(double_then_triple(5))  # 30"
   ]
  },
  {
   "cell_type": "markdown",
   "id": "1ae99e47",
   "metadata": {},
   "source": [
    "### Exercise 7: Debugging Missing Parts\n",
    "\n",
    "**Task:**  \n",
    "Complete the `factorial` function by filling in the missing argument in the recursive call. The function should compute the factorial of a number `n`.\n",
    "\n",
    "```python\n",
    "def factorial(n):\n",
    "    if n == 0:\n",
    "        return 1\n",
    "    else:\n",
    "        return n * factorial(___)\n",
    "\n",
    "# Example usage:\n",
    "print(factorial(5))\n",
    "```\n",
    "\n",
    "**Expected Output:**\n",
    "```\n",
    "120\n",
    "```\n",
    "\n",
    "Complete the code below:"
   ]
  },
  {
   "cell_type": "code",
   "execution_count": null,
   "id": "b9633347",
   "metadata": {
    "collapsed": false
   },
   "outputs": [],
   "source": [
    "def factorial(n):\n",
    "    if n == 0:\n",
    "        return 1\n",
    "    else:\n",
    "        return n * factorial(n - 1)\n",
    "\n",
    "# Test the function\n",
    "print(factorial(5))  # 120\n",
    "print(factorial(0))  # 1\n",
    "print(factorial(3))  # 6"
   ]
  },
  {
   "cell_type": "markdown",
   "id": "106eda49",
   "metadata": {},
   "source": [
    "### Exercise 8: Understanding Variable Scope\n",
    "\n",
    "**Task:**  \n",
    "Predict the output of the following code snippet and explain why.\n",
    "\n",
    "```python\n",
    "x = 10\n",
    "\n",
    "def foo():\n",
    "    x = 5\n",
    "    print(\"Inside foo, x =\", x)\n",
    "\n",
    "foo()\n",
    "print(\"Outside foo, x =\", x)\n",
    "```\n",
    "\n",
    "**Your Explanation:**  \n",
    "- **Inside `foo`**, the variable `x` is assigned the value `5`. This `x` is **local** to the function `foo` and does not affect the global variable `x`.\n",
    "- **Outside `foo`**, the global variable `x` remains unchanged at `10`.\n",
    "\n",
    "**Expected Output:**\n",
    "```\n",
    "Inside foo, x = 5\n",
    "Outside foo, x = 10\n",
    "```"
   ]
  },
  {
   "cell_type": "code",
   "execution_count": null,
   "id": "a5395c07",
   "metadata": {},
   "outputs": [],
   "source": [
    "# Let's verify the behavior\n",
    "x = 10\n",
    "\n",
    "def foo():\n",
    "    x = 5\n",
    "    print(\"Inside foo, x =\", x)\n",
    "\n",
    "foo()\n",
    "print(\"Outside foo, x =\", x)"
   ]
  },
  {
   "cell_type": "markdown",
   "id": "b019c502",
   "metadata": {},
   "source": [
    "### Exercise 9: Building a Simple Calculator\n",
    "\n",
    "**Task:**  \n",
    "Write a function `calculator` that takes three arguments: two numbers and a string representing an operator (`'+', '-', '*', '/'`). The function should perform the corresponding arithmetic operation and return the result. If an invalid operator is provided, the function should return `None`.\n",
    "\n",
    "**Example Usage:**\n",
    "```python\n",
    "print(calculator(10, 5, '+'))  # Should print 15\n",
    "print(calculator(10, 5, '/'))  # Should print 2.0\n",
    "print(calculator(10, 5, '^'))  # Should print None\n",
    "```\n",
    "\n",
    "Complete the code below:"
   ]
  },
  {
   "cell_type": "code",
   "execution_count": 1,
   "id": "bc28ad8b",
   "metadata": {},
   "outputs": [
    {
     "name": "stdout",
     "output_type": "stream",
     "text": [
      "15\n",
      "2.0\n",
      "Invalid operator: ^\n",
      "None\n",
      "Error: Division by zero.\n",
      "None\n"
     ]
    }
   ],
   "source": [
    "def calculator(num1, num2, operator):\n",
    "    if operator == '+':\n",
    "        return num1 + num2\n",
    "    elif operator == '-':\n",
    "        return num1 - num2\n",
    "    elif operator == '*':\n",
    "        return num1 * num2\n",
    "    elif operator == '/':\n",
    "        if num2 != 0:\n",
    "            return num1 / num2\n",
    "        else:\n",
    "            print(\"Error: Division by zero.\")\n",
    "            return None\n",
    "    else:\n",
    "        print(f\"Invalid operator: {operator}\")\n",
    "        return None\n",
    "\n",
    "# Test the function\n",
    "print(calculator(10, 5, '+'))  # 15\n",
    "print(calculator(10, 5, '/'))  # 2.0\n",
    "print(calculator(10, 5, '^'))  # None\n",
    "print(calculator(10, 0, '/'))  # Error message and None"
   ]
  },
  {
   "cell_type": "markdown",
   "id": "0bfa4a87",
   "metadata": {},
   "source": [
    "### Exercise 10: Conditional Logic in Functions\n",
    "\n",
    "**Task:**  \n",
    "Define a function `max_of_three` that takes three numbers as arguments and returns the largest one.\n",
    "\n",
    "**Example Usage:**\n",
    "```python\n",
    "print(max_of_three(3, 7, 5))    # Should print 7\n",
    "print(max_of_three(10, 2, 10))  # Should print 10\n",
    "```\n",
    "\n",
    "Complete the code below:"
   ]
  },
  {
   "cell_type": "code",
   "execution_count": null,
   "id": "792f6621",
   "metadata": {},
   "outputs": [],
   "source": [
    "def max_of_three(a, b, c):\n",
    "    if a >= b and a >= c:\n",
    "        return a\n",
    "    elif b >= a and b >= c:\n",
    "        return b\n",
    "    else:\n",
    "        return c\n",
    "\n",
    "# Test the function\n",
    "print(max_of_three(3, 7, 5))    # 7\n",
    "print(max_of_three(10, 2, 10))  # 10\n",
    "print(max_of_three(-1, -5, -3)) # -1"
   ]
  },
  {
   "cell_type": "markdown",
   "id": "9e8a94a8",
   "metadata": {},
   "source": [
    "## Conclusion\n",
    "Functions are a fundamental aspect of Python programming, enabling you to write clean, efficient, and reusable code. Mastering functions will not only help you in organizing your code but also in tackling complex data science problems by breaking them down into manageable parts. Continue practicing by creating your own functions and exploring more advanced topics such as lambda functions, higher-order functions, and recursion.\n",
    "\n",
    "**Happy Coding!**"
   ]
  }
 ],
 "metadata": {
  "kernelspec": {
   "display_name": "Python 3",
   "language": "python",
   "name": "python3"
  },
  "language_info": {
   "codemirror_mode": {
    "name": "ipython",
    "version": 3
   },
   "file_extension": ".py",
   "mimetype": "text/x-python",
   "name": "python",
   "nbconvert_exporter": "python",
   "pygments_lexer": "ipython3",
   "version": "3.12.1"
  }
 },
 "nbformat": 4,
 "nbformat_minor": 5
}
